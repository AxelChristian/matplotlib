{
 "cells": [
  {
   "cell_type": "markdown",
   "id": "editorial-centre",
   "metadata": {},
   "source": [
    "# Plot Lifecycle"
   ]
  },
  {
   "cell_type": "markdown",
   "id": "positive-context",
   "metadata": {},
   "source": [
    "## Import Modules dan Cek Versi"
   ]
  },
  {
   "cell_type": "code",
   "execution_count": 55,
   "id": "eight-stack",
   "metadata": {},
   "outputs": [],
   "source": [
    "%matplotlib inline"
   ]
  },
  {
   "cell_type": "code",
   "execution_count": 56,
   "id": "configured-stylus",
   "metadata": {},
   "outputs": [
    {
     "name": "stdout",
     "output_type": "stream",
     "text": [
      "3.3.4\n",
      "1.19.2\n"
     ]
    }
   ],
   "source": [
    "import matplotlib\n",
    "import matplotlib.pyplot as plt\n",
    "import numpy as np\n",
    "\n",
    "print(matplotlib.__version__)\n",
    "print(np.__version__)"
   ]
  },
  {
   "cell_type": "markdown",
   "id": "sound-audience",
   "metadata": {},
   "source": [
    "## Dataset"
   ]
  },
  {
   "cell_type": "code",
   "execution_count": 57,
   "id": "potential-logan",
   "metadata": {},
   "outputs": [
    {
     "data": {
      "text/plain": [
       "{'Item A': 109438,\n",
       " 'Item B': 103569,\n",
       " 'Item C': 112214,\n",
       " 'Item D': 112591,\n",
       " 'Item E': 100934,\n",
       " 'Item F': 103660,\n",
       " 'Item G': 137351,\n",
       " 'Item H': 123381,\n",
       " 'Item I': 135841,\n",
       " 'Item J': 104437}"
      ]
     },
     "execution_count": 57,
     "metadata": {},
     "output_type": "execute_result"
    }
   ],
   "source": [
    "data = {'Item A': 109438,\n",
    "        'Item B': 103569,\n",
    "        'Item C': 112214,\n",
    "        'Item D': 112591,\n",
    "        'Item E': 100934,\n",
    "        'Item F': 103660,\n",
    "        'Item G': 137351,\n",
    "        'Item H': 123381,\n",
    "        'Item I': 135841,\n",
    "        'Item J': 104437}\n",
    "\n",
    "data"
   ]
  },
  {
   "cell_type": "code",
   "execution_count": 58,
   "id": "reduced-pavilion",
   "metadata": {},
   "outputs": [
    {
     "data": {
      "text/plain": [
       "('Item A',\n",
       " 'Item B',\n",
       " 'Item C',\n",
       " 'Item D',\n",
       " 'Item E',\n",
       " 'Item F',\n",
       " 'Item G',\n",
       " 'Item H',\n",
       " 'Item I',\n",
       " 'Item J')"
      ]
     },
     "execution_count": 58,
     "metadata": {},
     "output_type": "execute_result"
    }
   ],
   "source": [
    "items = tuple(data.keys())\n",
    "items"
   ]
  },
  {
   "cell_type": "code",
   "execution_count": 59,
   "id": "neither-hampshire",
   "metadata": {},
   "outputs": [
    {
     "data": {
      "text/plain": [
       "(109438,\n",
       " 103569,\n",
       " 112214,\n",
       " 112591,\n",
       " 100934,\n",
       " 103660,\n",
       " 137351,\n",
       " 123381,\n",
       " 135841,\n",
       " 104437)"
      ]
     },
     "execution_count": 59,
     "metadata": {},
     "output_type": "execute_result"
    }
   ],
   "source": [
    "count = tuple(data.values())\n",
    "count"
   ]
  },
  {
   "cell_type": "markdown",
   "id": "inappropriate-outdoors",
   "metadata": {},
   "source": [
    "## Simple Plot"
   ]
  },
  {
   "cell_type": "code",
   "execution_count": 60,
   "id": "german-fountain",
   "metadata": {},
   "outputs": [
    {
     "data": {
      "image/png": "[encoded data removed]",
      "text/plain": [
       "<Figure size 432x288 with 1 Axes>"
      ]
     },
     "metadata": {
      "needs_background": "light"
     },
     "output_type": "display_data"
    }
   ],
   "source": [
    "fig, ax = plt.subplots()\n",
    "\n",
    "ax.barh(items, count)\n",
    "\n",
    "plt.show()"
   ]
  },
  {
   "cell_type": "markdown",
   "id": "japanese-terminal",
   "metadata": {},
   "source": [
    "## Pengaturan Style"
   ]
  },
  {
   "cell_type": "code",
   "execution_count": 61,
   "id": "canadian-explorer",
   "metadata": {},
   "outputs": [
    {
     "data": {
      "text/plain": [
       "['Solarize_Light2',\n",
       " '_classic_test_patch',\n",
       " 'bmh',\n",
       " 'classic',\n",
       " 'dark_background',\n",
       " 'fast',\n",
       " 'fivethirtyeight',\n",
       " 'ggplot',\n",
       " 'grayscale',\n",
       " 'seaborn',\n",
       " 'seaborn-bright',\n",
       " 'seaborn-colorblind',\n",
       " 'seaborn-dark',\n",
       " 'seaborn-dark-palette',\n",
       " 'seaborn-darkgrid',\n",
       " 'seaborn-deep',\n",
       " 'seaborn-muted',\n",
       " 'seaborn-notebook',\n",
       " 'seaborn-paper',\n",
       " 'seaborn-pastel',\n",
       " 'seaborn-poster',\n",
       " 'seaborn-talk',\n",
       " 'seaborn-ticks',\n",
       " 'seaborn-white',\n",
       " 'seaborn-whitegrid',\n",
       " 'tableau-colorblind10']"
      ]
     },
     "execution_count": 61,
     "metadata": {},
     "output_type": "execute_result"
    }
   ],
   "source": [
    "plt.style.available"
   ]
  },
  {
   "cell_type": "markdown",
   "id": "religious-bulletin",
   "metadata": {},
   "source": [
    "code untuk mengatur gaya plot yang diinginkan"
   ]
  },
  {
   "cell_type": "code",
   "execution_count": 62,
   "id": "optical-adventure",
   "metadata": {},
   "outputs": [
    {
     "data": {
      "image/png": "[encoded data removed]",
      "text/plain": [
       "<Figure size 432x288 with 1 Axes>"
      ]
     },
     "metadata": {},
     "output_type": "display_data"
    }
   ],
   "source": [
    "plt.style.use('seaborn-white')\n",
    "\n",
    "fig, ax = plt.subplots()\n",
    "ax.barh(items, count)\n",
    "plt.show()"
   ]
  },
  {
   "cell_type": "markdown",
   "id": "august-recovery",
   "metadata": {},
   "source": [
    "## Pengaturan Tick Label"
   ]
  },
  {
   "cell_type": "markdown",
   "id": "recorded-enclosure",
   "metadata": {},
   "source": [
    "code untuk mengkustomisasi tick label pada plot"
   ]
  },
  {
   "cell_type": "code",
   "execution_count": 63,
   "id": "amino-asset",
   "metadata": {},
   "outputs": [
    {
     "data": {
      "image/png": "[encoded data removed]",
      "text/plain": [
       "<Figure size 432x288 with 1 Axes>"
      ]
     },
     "metadata": {},
     "output_type": "display_data"
    }
   ],
   "source": [
    "fig, ax = plt.subplots()\n",
    "ax.barh(items, count)\n",
    "\n",
    "labels = ax.get_xticklabels()\n",
    "\n",
    "plt.setp(labels,\n",
    "         rotation=-45,\n",
    "         horizontalalignment='left')\n",
    "\n",
    "plt.show()"
   ]
  },
  {
   "cell_type": "markdown",
   "id": "pressing-pasta",
   "metadata": {},
   "source": [
    "## Pengaturan Format pada Ticker"
   ]
  },
  {
   "cell_type": "code",
   "execution_count": 64,
   "id": "regulated-marking",
   "metadata": {},
   "outputs": [],
   "source": [
    "from matplotlib.ticker import FuncFormatter"
   ]
  },
  {
   "cell_type": "markdown",
   "id": "communist-curtis",
   "metadata": {},
   "source": [
    "code untuk membuat ribuan menjadi K (ribu dalam inggris)"
   ]
  },
  {
   "cell_type": "code",
   "execution_count": 65,
   "id": "contrary-constraint",
   "metadata": {},
   "outputs": [],
   "source": [
    "def ribuan(x, pos):\n",
    "    return f'{int(x/1000)}K'"
   ]
  },
  {
   "cell_type": "code",
   "execution_count": 66,
   "id": "wrong-crest",
   "metadata": {},
   "outputs": [
    {
     "data": {
      "image/png": "[encoded data removed]",
      "text/plain": [
       "<Figure size 432x288 with 1 Axes>"
      ]
     },
     "metadata": {},
     "output_type": "display_data"
    }
   ],
   "source": [
    "fig, ax = plt.subplots()\n",
    "ax.barh(items, count)\n",
    "\n",
    "formatter = FuncFormatter(ribuan)\n",
    "ax.xaxis.set_major_formatter(formatter)\n",
    "\n",
    "ax.set(title='Plot', \n",
    "       xlabel='Jumlah', \n",
    "       ylabel='Items')\n",
    "\n",
    "plt.show()"
   ]
  },
  {
   "cell_type": "markdown",
   "id": "responsible-command",
   "metadata": {},
   "source": [
    "## Pengaturan Label pada Sumbu dan Judul"
   ]
  },
  {
   "cell_type": "markdown",
   "id": "connected-auction",
   "metadata": {},
   "source": [
    "code untuk mengatur label pada sumbu & judul:"
   ]
  },
  {
   "cell_type": "code",
   "execution_count": 67,
   "id": "comparable-valuable",
   "metadata": {},
   "outputs": [
    {
     "data": {
      "image/png": "[encoded data removed]",
      "text/plain": [
       "<Figure size 432x288 with 1 Axes>"
      ]
     },
     "metadata": {},
     "output_type": "display_data"
    }
   ],
   "source": [
    "fig, ax = plt.subplots()\n",
    "ax.barh(items, count)\n",
    "\n",
    "ax.set(title='Plot', \n",
    "       xlabel='Jumlah', \n",
    "       ylabel='Items')\n",
    "\n",
    "plt.show()"
   ]
  },
  {
   "cell_type": "markdown",
   "id": "transsexual-demographic",
   "metadata": {},
   "source": [
    "## Penambahan Garis pada Plot"
   ]
  },
  {
   "cell_type": "markdown",
   "id": "every-prison",
   "metadata": {},
   "source": [
    "code untuk menambahkan garis pada plot"
   ]
  },
  {
   "cell_type": "code",
   "execution_count": 68,
   "id": "distant-german",
   "metadata": {},
   "outputs": [
    {
     "data": {
      "image/png": "[encoded data removed]",
      "text/plain": [
       "<Figure size 432x288 with 1 Axes>"
      ]
     },
     "metadata": {},
     "output_type": "display_data"
    }
   ],
   "source": [
    "fig, ax = plt.subplots()\n",
    "ax.barh(items, count)\n",
    "\n",
    "ax.axvline(np.mean(count), \n",
    "           ls='-', \n",
    "           color='y')\n",
    "\n",
    "ax.set(title='Plot', \n",
    "       xlabel='Jumlah', \n",
    "       ylabel='Items')\n",
    "\n",
    "plt.show()"
   ]
  },
  {
   "cell_type": "markdown",
   "id": "major-finnish",
   "metadata": {},
   "source": [
    "## Menyimpan Hasil Plot ke dalam File"
   ]
  },
  {
   "cell_type": "code",
   "execution_count": 69,
   "id": "ruled-campus",
   "metadata": {},
   "outputs": [
    {
     "data": {
      "text/plain": [
       "{'eps': 'Encapsulated Postscript',\n",
       " 'jpg': 'Joint Photographic Experts Group',\n",
       " 'jpeg': 'Joint Photographic Experts Group',\n",
       " 'pdf': 'Portable Document Format',\n",
       " 'pgf': 'PGF code for LaTeX',\n",
       " 'png': 'Portable Network Graphics',\n",
       " 'ps': 'Postscript',\n",
       " 'raw': 'Raw RGBA bitmap',\n",
       " 'rgba': 'Raw RGBA bitmap',\n",
       " 'svg': 'Scalable Vector Graphics',\n",
       " 'svgz': 'Scalable Vector Graphics',\n",
       " 'tif': 'Tagged Image File Format',\n",
       " 'tiff': 'Tagged Image File Format'}"
      ]
     },
     "execution_count": 69,
     "metadata": {},
     "output_type": "execute_result"
    }
   ],
   "source": [
    "fig.canvas.get_supported_filetypes()"
   ]
  },
  {
   "cell_type": "markdown",
   "id": "consolidated-scoop",
   "metadata": {},
   "source": [
    "code untuk menyimpan plot menjadi file tertentu :"
   ]
  },
  {
   "cell_type": "code",
   "execution_count": 71,
   "id": "brief-steps",
   "metadata": {},
   "outputs": [
    {
     "data": {
      "image/png": "[encoded data removed]",
      "text/plain": [
       "<Figure size 432x288 with 1 Axes>"
      ]
     },
     "metadata": {},
     "output_type": "display_data"
    }
   ],
   "source": [
    "fig, ax = plt.subplots()\n",
    "ax.barh(items, count)\n",
    "\n",
    "ax.axvline(np.mean(count),\n",
    "           ls='-',\n",
    "           color='y')\n",
    "\n",
    "ax.set(title='Plot',\n",
    "       xlabel='Jumlah',\n",
    "       ylabel='Items')\n",
    "\n",
    "fig.savefig('16_plot_lifecycle_test.png',\n",
    "            transparent=True,\n",
    "            dpi=100)"
   ]
  },
  {
   "cell_type": "code",
   "execution_count": null,
   "id": "unusual-pendant",
   "metadata": {},
   "outputs": [],
   "source": []
  }
 ],
 "metadata": {
  "kernelspec": {
   "display_name": "Python 3",
   "language": "python",
   "name": "python3"
  },
  "language_info": {
   "codemirror_mode": {
    "name": "ipython",
    "version": 3
   },
   "file_extension": ".py",
   "mimetype": "text/x-python",
   "name": "python",
   "nbconvert_exporter": "python",
   "pygments_lexer": "ipython3",
   "version": "3.8.8"
  }
 },
 "nbformat": 4,
 "nbformat_minor": 5
}
