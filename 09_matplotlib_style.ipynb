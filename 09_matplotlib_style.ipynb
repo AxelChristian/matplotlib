{
 "cells": [
  {
   "cell_type": "markdown",
   "id": "physical-chambers",
   "metadata": {},
   "source": [
    "# Matplotlib Style"
   ]
  },
  {
   "cell_type": "markdown",
   "id": "peaceful-coating",
   "metadata": {},
   "source": [
    "## Cek Versi dan Import Modules"
   ]
  },
  {
   "cell_type": "code",
   "execution_count": 1,
   "id": "still-decision",
   "metadata": {},
   "outputs": [],
   "source": [
    "%matplotlib inline"
   ]
  },
  {
   "cell_type": "code",
   "execution_count": 2,
   "id": "whole-provincial",
   "metadata": {},
   "outputs": [
    {
     "name": "stdout",
     "output_type": "stream",
     "text": [
      "3.3.4\n",
      "1.19.2\n"
     ]
    }
   ],
   "source": [
    "import matplotlib\n",
    "import matplotlib.pyplot as plt\n",
    "from matplotlib import style\n",
    "import numpy as np\n",
    "\n",
    "print(matplotlib.__version__)\n",
    "print(np.__version__)"
   ]
  },
  {
   "cell_type": "markdown",
   "id": "looking-austria",
   "metadata": {},
   "source": [
    "## Fungsi Plotting"
   ]
  },
  {
   "cell_type": "code",
   "execution_count": 4,
   "id": "difficult-criterion",
   "metadata": {},
   "outputs": [],
   "source": [
    "def gambar_barplot():\n",
    "    data1 = [25,85, 75, 40, 60]\n",
    "    data2 = [40, 35, 20, 55, 10]\n",
    "    kategori = ['A', 'B', 'C', 'D', 'E']\n",
    "\n",
    "    x = np.arange(len(kategori))\n",
    "    \n",
    "    width = 0.35\n",
    "\n",
    "    plt.bar(x-width/2, data1, width, label='Data 1')\n",
    "    plt.bar(x+width/2, data2, width, label='Data 2')\n",
    "\n",
    "    plt.xticks(x, kategori)\n",
    "\n",
    "    plt.grid(linestyle='--', \n",
    "             linewidth=1, \n",
    "             axis='y',\n",
    "             alpha=0.75)\n",
    "\n",
    "    plt.xlabel('Kategori')\n",
    "    plt.ylabel('Jumlah')\n",
    "    plt.title('Grouped Bar Plot')\n",
    "\n",
    "    plt.legend()\n",
    "    plt.show()"
   ]
  },
  {
   "cell_type": "code",
   "execution_count": 5,
   "id": "supreme-mention",
   "metadata": {},
   "outputs": [
    {
     "data": {
      "image/png": "[encoded data removed]",
      "text/plain": [
       "<Figure size 432x288 with 1 Axes>"
      ]
     },
     "metadata": {
      "needs_background": "light"
     },
     "output_type": "display_data"
    }
   ],
   "source": [
    "gambar_barplot()"
   ]
  },
  {
   "cell_type": "markdown",
   "id": "blank-addition",
   "metadata": {},
   "source": [
    "## Matplotlib Style"
   ]
  },
  {
   "cell_type": "code",
   "execution_count": 6,
   "id": "configured-strap",
   "metadata": {},
   "outputs": [
    {
     "data": {
      "text/plain": [
       "['Solarize_Light2',\n",
       " '_classic_test_patch',\n",
       " 'bmh',\n",
       " 'classic',\n",
       " 'dark_background',\n",
       " 'fast',\n",
       " 'fivethirtyeight',\n",
       " 'ggplot',\n",
       " 'grayscale',\n",
       " 'seaborn',\n",
       " 'seaborn-bright',\n",
       " 'seaborn-colorblind',\n",
       " 'seaborn-dark',\n",
       " 'seaborn-dark-palette',\n",
       " 'seaborn-darkgrid',\n",
       " 'seaborn-deep',\n",
       " 'seaborn-muted',\n",
       " 'seaborn-notebook',\n",
       " 'seaborn-paper',\n",
       " 'seaborn-pastel',\n",
       " 'seaborn-poster',\n",
       " 'seaborn-talk',\n",
       " 'seaborn-ticks',\n",
       " 'seaborn-white',\n",
       " 'seaborn-whitegrid',\n",
       " 'tableau-colorblind10']"
      ]
     },
     "execution_count": 6,
     "metadata": {},
     "output_type": "execute_result"
    }
   ],
   "source": [
    "plt.style.available"
   ]
  },
  {
   "cell_type": "code",
   "execution_count": 8,
   "id": "unavailable-wheat",
   "metadata": {},
   "outputs": [
    {
     "data": {
      "image/png": "[encoded data removed]",
      "text/plain": [
       "<Figure size 432x288 with 1 Axes>"
      ]
     },
     "metadata": {},
     "output_type": "display_data"
    }
   ],
   "source": [
    "style.use('seaborn-bright') #setting style\n",
    "gambar_barplot()"
   ]
  },
  {
   "cell_type": "code",
   "execution_count": null,
   "id": "generic-portugal",
   "metadata": {},
   "outputs": [],
   "source": []
  }
 ],
 "metadata": {
  "kernelspec": {
   "display_name": "Python 3",
   "language": "python",
   "name": "python3"
  },
  "language_info": {
   "codemirror_mode": {
    "name": "ipython",
    "version": 3
   },
   "file_extension": ".py",
   "mimetype": "text/x-python",
   "name": "python",
   "nbconvert_exporter": "python",
   "pygments_lexer": "ipython3",
   "version": "3.8.8"
  }
 },
 "nbformat": 4,
 "nbformat_minor": 5
}
