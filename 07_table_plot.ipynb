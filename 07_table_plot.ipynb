{
 "cells": [
  {
   "cell_type": "markdown",
   "id": "opening-capability",
   "metadata": {},
   "source": [
    "# Table plot / tabel"
   ]
  },
  {
   "cell_type": "markdown",
   "id": "wrong-malaysia",
   "metadata": {},
   "source": [
    "## Cek Versi "
   ]
  },
  {
   "cell_type": "code",
   "execution_count": 2,
   "id": "agreed-property",
   "metadata": {},
   "outputs": [],
   "source": [
    "%matplotlib inline"
   ]
  },
  {
   "cell_type": "code",
   "execution_count": 3,
   "id": "aging-airplane",
   "metadata": {},
   "outputs": [
    {
     "name": "stdout",
     "output_type": "stream",
     "text": [
      "3.3.4\n",
      "1.19.2\n"
     ]
    }
   ],
   "source": [
    "import matplotlib\n",
    "import matplotlib.pyplot as plt\n",
    "import numpy as np\n",
    "\n",
    "print(matplotlib.__version__)\n",
    "print(np.__version__)"
   ]
  },
  {
   "cell_type": "markdown",
   "id": "recognized-skating",
   "metadata": {},
   "source": [
    "## Persiapan Data"
   ]
  },
  {
   "cell_type": "code",
   "execution_count": 8,
   "id": "western-german",
   "metadata": {},
   "outputs": [],
   "source": [
    "data_uas=[\n",
    "    ['Ryu', 70],\n",
    "    ['Nathanael', 83],\n",
    "    ['Christophorus', 62],\n",
    "    ['Axel', 74],\n",
    "    ['Aleg', 71]\n",
    "]"
   ]
  },
  {
   "cell_type": "code",
   "execution_count": 5,
   "id": "reported-rebecca",
   "metadata": {},
   "outputs": [
    {
     "data": {
      "text/plain": [
       "[['Ryu', 70],\n",
       " ['Nathanael', 83],\n",
       " ['Christophorus', 62],\n",
       " ['Axel', 74],\n",
       " ['Aleg', 71]]"
      ]
     },
     "execution_count": 5,
     "metadata": {},
     "output_type": "execute_result"
    }
   ],
   "source": [
    "data_uas"
   ]
  },
  {
   "cell_type": "markdown",
   "id": "collectible-librarian",
   "metadata": {},
   "source": [
    "## Table Plot dengan OO Style"
   ]
  },
  {
   "cell_type": "code",
   "execution_count": 6,
   "id": "otherwise-membership",
   "metadata": {},
   "outputs": [
    {
     "data": {
      "image/png": "[encoded data removed]",
      "text/plain": [
       "<Figure size 432x288 with 1 Axes>"
      ]
     },
     "metadata": {
      "needs_background": "light"
     },
     "output_type": "display_data"
    }
   ],
   "source": [
    "fig, ax = plt.subplots()\n",
    "\n",
    "table = plt.table(cellText=data_uas, \n",
    "                  loc='center')\n",
    "\n",
    "table.set_fontsize(14)\n",
    "table.scale(1, 4) # (kolom, baris)\n",
    "\n",
    "ax.axis(False)\n",
    "\n",
    "plt.show()"
   ]
  },
  {
   "cell_type": "markdown",
   "id": "interstate-prevention",
   "metadata": {},
   "source": [
    "## Table Plot dengan pyplot Style"
   ]
  },
  {
   "cell_type": "code",
   "execution_count": 7,
   "id": "indian-struggle",
   "metadata": {},
   "outputs": [
    {
     "data": {
      "image/png": "[encoded data removed]",
      "text/plain": [
       "<Figure size 432x288 with 1 Axes>"
      ]
     },
     "metadata": {
      "needs_background": "light"
     },
     "output_type": "display_data"
    }
   ],
   "source": [
    "table = plt.table(cellText=data_uas, \n",
    "                  loc='center')\n",
    "\n",
    "table.set_fontsize(14)\n",
    "table.scale(1, 4)\n",
    "\n",
    "ax = plt.gca() #get current access, referensi object aktif\n",
    "ax.axis(False)\n",
    "\n",
    "plt.show()"
   ]
  },
  {
   "cell_type": "code",
   "execution_count": null,
   "id": "tracked-scholar",
   "metadata": {},
   "outputs": [],
   "source": []
  },
  {
   "cell_type": "code",
   "execution_count": null,
   "id": "atomic-catch",
   "metadata": {},
   "outputs": [],
   "source": []
  }
 ],
 "metadata": {
  "kernelspec": {
   "display_name": "Python 3",
   "language": "python",
   "name": "python3"
  },
  "language_info": {
   "codemirror_mode": {
    "name": "ipython",
    "version": 3
   },
   "file_extension": ".py",
   "mimetype": "text/x-python",
   "name": "python",
   "nbconvert_exporter": "python",
   "pygments_lexer": "ipython3",
   "version": "3.8.8"
  }
 },
 "nbformat": 4,
 "nbformat_minor": 5
}
